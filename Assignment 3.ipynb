{
 "cells": [
  {
   "cell_type": "markdown",
   "id": "20862e13",
   "metadata": {},
   "source": [
    "Assignment 3\n",
    "\n",
    "1. Why are functions advantageous to have in your programs?\n",
    "\n",
    "\n",
    "ans : we can avoid rewriting the same logic or code again and again in a program.\n",
    "\n",
    "\n",
    "2. When does the code in a function run: when it&#39;s specified or when it&#39;s called?\n",
    "\n",
    "ans : A Function in Python is a piece of code which runs when it is referenced. It is used to utilize the code in more than one place in a program.\n",
    "\n",
    "\n",
    "3. What statement creates a function?\n",
    "\n",
    "ans : define a function with the def keyword, then write the function identifier (name) followed by parentheses and a colon.\n",
    "\n",
    "\n",
    "4. What is the difference between a function and a function call?\n",
    "\n",
    "ans : A function is a block of code that does a particular operation and returns a result. It usually accepts inputs as parameters and returns a result. The parameters are not mandatory. A function call is the code used to pass control to a function.\n",
    "\n",
    "\n",
    "5. How many global scopes are there in a Python program? How many local scopes?\n",
    "\n",
    "ans : At any given time during execution, you'll have at most four active Python scopes—local, enclosing, global, and built-in—depending on where you are in the code. On the other hand, you'll always have at least two active scopes, which are the global and built-in scopes.\n",
    "\n",
    "6. What happens to variables in a local scope when the function call returns?\n",
    "\n",
    "ans: Each call of the function creates new local variables, and their lifetimes expire when the function returns to the caller.\n",
    "\n",
    "7. What is the concept of a return value? Is it possible to have a return value in an expression?\n",
    "\n",
    "ans : You can use the return statement to make your functions send Python objects back to the caller code.A Python function will always have a return value. \n",
    "\n",
    "8. If a function does not have a return statement, what is the return value of a call to that function?\n",
    "\n",
    "ans : So, if you don't explicitly use a return value in a return statement, or if you totally omit the return statement, then Python will implicitly return a default value for you. That default return value will always be None .\n",
    "\n",
    "9. How do you make a function variable refer to the global variable?\n",
    "\n",
    "ans : when you create a variable inside a function, that variable is local, and can only be used inside that function. To create a global variable inside a function, you can use the global keyword.\n",
    "\n",
    "10. What is the data type of None?\n",
    "\n",
    "ans : None is a data type of its own (NoneType) \n",
    "\n",
    "11. What does the sentence import areallyourpetsnamederic do?\n",
    "\n",
    "ans : The sentence \"import areallyourpetsnamederic\" is not a complete sentence in the sense that it does not convey a coherent meaning or message.\n",
    "\n",
    "12. If you had a bacon() feature in a spam module, what would you call it after importing spam?\n",
    "\n",
    "ans : This function can be called with spam. bacon().\n",
    "\n",
    "13. What can you do to save a programme from crashing if it encounters an error?\n",
    "\n",
    "ans : “Stop running if this occurs” errors\n",
    "\n",
    "14. What is the purpose of the try clause? What is the purpose of the except clause?\n",
    "\n",
    "ans : The try block lets you test a block of code for errors. The except block lets you handle the error."
   ]
  },
  {
   "cell_type": "code",
   "execution_count": null,
   "id": "b5dd39ca",
   "metadata": {},
   "outputs": [],
   "source": []
  },
  {
   "cell_type": "code",
   "execution_count": null,
   "id": "e689f58a",
   "metadata": {},
   "outputs": [],
   "source": []
  },
  {
   "cell_type": "code",
   "execution_count": null,
   "id": "ad65044e",
   "metadata": {},
   "outputs": [],
   "source": []
  }
 ],
 "metadata": {
  "kernelspec": {
   "display_name": "Python 3 (ipykernel)",
   "language": "python",
   "name": "python3"
  },
  "language_info": {
   "codemirror_mode": {
    "name": "ipython",
    "version": 3
   },
   "file_extension": ".py",
   "mimetype": "text/x-python",
   "name": "python",
   "nbconvert_exporter": "python",
   "pygments_lexer": "ipython3",
   "version": "3.9.7"
  }
 },
 "nbformat": 4,
 "nbformat_minor": 5
}
