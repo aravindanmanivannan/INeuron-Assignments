{
 "cells": [
  {
   "cell_type": "markdown",
   "id": "f26f4dc0",
   "metadata": {},
   "source": [
    "1. What does an empty dictionary&#39;s code look like?\n",
    "\n",
    "ans : d = {}\n",
    "\n",
    "2. What is the value of a dictionary value with the key &#39;foo&#39; and the value 42?\n",
    "\n",
    "ans : 42\n",
    "\n",
    "3. What is the most significant distinction between a dictionary and a list?\n",
    "\n",
    "ans : Lists are used to store the data, which should be ordered and sequential. On the other hand, dictionary is used to store large amounts of data for easy and quick access. List is ordered and mutable, whereas dictionaries are unordered and mutable.\n",
    "\n",
    "4. What happens if you try to access spam[&#39;foo&#39;] if spam is {&#39;bar&#39;: 100}?\n",
    "\n",
    "ans : 100\n",
    "\n",
    "5. If a dictionary is stored in spam, what is the difference between the expressions &#39;cat&#39; in spam and\n",
    "&#39;cat&#39; in spam.keys()?\n",
    "\n",
    "ans : The expression 'cat' in spam checks if the key 'cat' is present in the dictionary stored in spam. If the key 'cat' is present, it returns True, otherwise it returns False.\n",
    "\n",
    "6. If a dictionary is stored in spam, what is the difference between the expressions &#39;cat&#39; in spam and\n",
    "&#39;cat&#39; in spam.values()?\n",
    "\n",
    "ans : cat in spam.values()\n",
    "\n",
    "7. What is a shortcut for the following code?\n",
    "if &#39;color&#39; not in spam:\n",
    "spam[&#39;color&#39;] = &#39;black&#39;\n",
    "\n",
    "ans : The get method on a dictionary returns the value associated with the given key if the key is present in the dictionary, and a default value otherwise. In this case, if the key 'color' is not present in the dictionary spam, the value 'black' will be assigned to spam['color']. If the key 'color' is already present in the dictionary, then its value will be unchanged.\n",
    "\n",
    "8. How do you &quot;pretty print&quot; dictionary values using which module and function?\n",
    "\n",
    "ans : You can \"pretty print\" dictionary values in Python using the pprint function from the pprint module. The pprint function provides a way to display dictionary values in a more readable and organized way, with indentation and line breaks, compared to the default output from the print function."
   ]
  },
  {
   "cell_type": "code",
   "execution_count": null,
   "id": "f98a29ad",
   "metadata": {},
   "outputs": [],
   "source": []
  }
 ],
 "metadata": {
  "kernelspec": {
   "display_name": "Python 3 (ipykernel)",
   "language": "python",
   "name": "python3"
  },
  "language_info": {
   "codemirror_mode": {
    "name": "ipython",
    "version": 3
   },
   "file_extension": ".py",
   "mimetype": "text/x-python",
   "name": "python",
   "nbconvert_exporter": "python",
   "pygments_lexer": "ipython3",
   "version": "3.9.7"
  }
 },
 "nbformat": 4,
 "nbformat_minor": 5
}
