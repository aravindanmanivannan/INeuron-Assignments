{
 "cells": [
  {
   "cell_type": "markdown",
   "id": "9c77e47a",
   "metadata": {},
   "source": [
    "1. What advantages do Excel spreadsheets have over CSV spreadsheets?\n",
    "\n",
    "ans : While Excel (XLS and XLSX) file formats are better for storing more complex data, CSV files are supported by nearly all data upload interfaces. If you are planning to move your data between platforms, export and import it from one interface to another, you might be better off with the CSV file format.\n",
    "\n",
    "2.What do you pass to csv.reader() and csv.writer() to create reader and writer objects?\n",
    "\n",
    "ans : First, call open() and pass it 'w' to open a file in write mode 1. This will create the object you can then pass to csv. writer() 2 to create a Writer object. On Windows, you'll also need to pass a blank string for the open() function's newline keyword argument.\n",
    "\n",
    "3. What modes do File objects for reader and writer objects need to be opened in?\n",
    "\n",
    "ans: In order to open a file for reading or writing purposes, we must use the built-in open() function. The open() function uses two arguments.\n",
    "\n",
    "4. What method takes a list argument and writes it to a CSV file?\n",
    "\n",
    "ans : A CSV file is a bounded text format which uses a comma to separate values. The most common method to write data from a list to CSV file is the writerow() method of writer and DictWriter class.\n",
    "\n",
    "5. What do the keyword arguments delimiter and line terminator do?\n",
    "\n",
    "ans : The delimiter and lineterminator Keyword Arguments\n",
    "The delimiter is the character that appears between cells on a row. By default, the delimiter for a CSV file is a comma. The line terminator is the character that comes at the end of a row. By default, the line terminator is a newline.\n",
    "\n",
    "6. What function takes a string of JSON data and returns a Python data structure?\n",
    "\n",
    "ans : We use the json. loads() method to parse a JSON string and return a Python object such as a dictionary. The json. loads() method takes the file contents as a string.\n",
    "\n",
    "7. What function takes a Python data structure and returns a string of JSON data?\n",
    "\n",
    "ans : If you have a Python object, you can convert it into a JSON string by using the json. dumps() method."
   ]
  },
  {
   "cell_type": "code",
   "execution_count": null,
   "id": "c17c0fde",
   "metadata": {},
   "outputs": [],
   "source": []
  }
 ],
 "metadata": {
  "kernelspec": {
   "display_name": "Python 3 (ipykernel)",
   "language": "python",
   "name": "python3"
  },
  "language_info": {
   "codemirror_mode": {
    "name": "ipython",
    "version": 3
   },
   "file_extension": ".py",
   "mimetype": "text/x-python",
   "name": "python",
   "nbconvert_exporter": "python",
   "pygments_lexer": "ipython3",
   "version": "3.9.7"
  }
 },
 "nbformat": 4,
 "nbformat_minor": 5
}
