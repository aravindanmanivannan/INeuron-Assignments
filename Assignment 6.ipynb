{
 "cells": [
  {
   "cell_type": "markdown",
   "id": "743d8bf6",
   "metadata": {},
   "source": [
    "Assignment 6\n",
    "\n",
    "1. What are escape characters, and how do you use them?\n",
    "\n",
    "ans : To insert characters that are illegal in a string, use an escape character. An escape character is a backslash \\ followed by the character you want to insert.\n",
    "\n",
    "2. What do the escape characters n and t stand for?\n",
    "\n",
    "ans : newline (\\n), tab (\\t)\n",
    "\n",
    "3. What is the way to include backslash characters in a string?\n",
    "\n",
    "ans : to match a literal backslash, one has to write '\\\\\\\\' as the RE string, because the regular expression must be \"\\\\\", and each backslash must be expressed as \"\\\\\" inside a regular Python string literal.\n",
    "\n",
    "4. The string &quot;Howl&#39;s Moving Castle&quot; is a correct value. Why isn&#39;t the single quote character in the\n",
    "word Howl&#39;s not escaped a problem?\n",
    "\n",
    "ans : The single quote in Howl's is fine because you've used double quotes to mark the beginning and end of the string.\n",
    "\n",
    "5. How do you write a string of newlines if you don&#39;t want to use the n character?\n",
    "\n",
    "ans : The new line character in Python is \\n . It is used to indicate the end of a line of text. You can print strings without adding a new line with end = <character> , which <character> is the character that will be used to separate the lines.\n",
    "    \n",
    "6. What are the values of the given expressions?\n",
    "&#39;Hello, world!&#39;[1]\n",
    "&#39;Hello, world!&#39;[0:5]\n",
    "&#39;Hello, world!&#39;[:5]\n",
    "&#39;Hello, world!&#39;[3:]\n",
    "    \n",
    "ans : 'Hello, world!'[1] = 'e'\n",
    "'Hello, world!'[0:5] = 'Hello'\n",
    "'Hello, world!'[:5] = 'Hello'\n",
    "'Hello, world!'[3:] = 'lo, world!'    \n",
    "\n",
    "7. What are the values of the following expressions?\n",
    "&#39;Hello&#39;.upper()\n",
    "&#39;Hello&#39;.upper().isupper()\n",
    "&#39;Hello&#39;.upper().lower()\n",
    "    \n",
    " ans : 'Hello'.upper() returns 'HELLO'\n",
    "'Hello'.upper().isupper() returns True\n",
    "'Hello'.upper().lower() returns 'hello'\n",
    "    \n",
    "8. What are the values of the following expressions?\n",
    "&#39;Remember, remember, the fifth of July.&#39;.split()\n",
    "&#39;-&#39;.join(&#39;There can only one.&#39;.split())\n",
    "    \n",
    "ans :  returns 'There-can-only-be-one.' \n",
    "    \n",
    "9. What are the methods for right-justifying, left-justifying, and centering a string?\n",
    "    \n",
    "ans : rjust() , center() , or ljust() methods\n",
    "    \n",
    "10. What is the best way to remove whitespace characters from the start or end?\n",
    "    \n",
    "ans : Use the . strip() method "
   ]
  },
  {
   "cell_type": "code",
   "execution_count": null,
   "id": "32197acf",
   "metadata": {},
   "outputs": [],
   "source": []
  }
 ],
 "metadata": {
  "kernelspec": {
   "display_name": "Python 3 (ipykernel)",
   "language": "python",
   "name": "python3"
  },
  "language_info": {
   "codemirror_mode": {
    "name": "ipython",
    "version": 3
   },
   "file_extension": ".py",
   "mimetype": "text/x-python",
   "name": "python",
   "nbconvert_exporter": "python",
   "pygments_lexer": "ipython3",
   "version": "3.9.7"
  }
 },
 "nbformat": 4,
 "nbformat_minor": 5
}
