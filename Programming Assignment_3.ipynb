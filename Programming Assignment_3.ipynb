{
 "cells": [
  {
   "cell_type": "markdown",
   "id": "49996cd6",
   "metadata": {},
   "source": [
    "1. Write a Python Program to Check if a Number is Positive, Negative or Zero?\n"
   ]
  },
  {
   "cell_type": "code",
   "execution_count": 6,
   "id": "ed9ca1c7",
   "metadata": {},
   "outputs": [
    {
     "name": "stdout",
     "output_type": "stream",
     "text": [
      "0\n",
      "Zero\n"
     ]
    }
   ],
   "source": [
    "n=int(input())\n",
    "if n > 0:\n",
    "    print(\"Positive\")\n",
    "elif n < 0:\n",
    "    print(\"Negative\")\n",
    "else:\n",
    "    print(\"Zero\")"
   ]
  },
  {
   "cell_type": "markdown",
   "id": "31542c0b",
   "metadata": {},
   "source": [
    "2. Write a Python Program to Check if a Number is Odd or Even?\n"
   ]
  },
  {
   "cell_type": "code",
   "execution_count": 8,
   "id": "8bb10199",
   "metadata": {},
   "outputs": [
    {
     "name": "stdout",
     "output_type": "stream",
     "text": [
      "5\n",
      "odd\n"
     ]
    }
   ],
   "source": [
    "i=int(input())\n",
    "\n",
    "if i %2==0:\n",
    "    print(\"Even\")\n",
    "else:\n",
    "    print(\"odd\")"
   ]
  },
  {
   "cell_type": "markdown",
   "id": "794dc258",
   "metadata": {},
   "source": [
    "3. Write a Python Program to Check Leap Year?\n"
   ]
  },
  {
   "cell_type": "code",
   "execution_count": 13,
   "id": "d3f413ab",
   "metadata": {},
   "outputs": [
    {
     "name": "stdout",
     "output_type": "stream",
     "text": [
      "Enter a year: 3000\n",
      "3000 is not a leap year\n"
     ]
    }
   ],
   "source": [
    "year = int(input(\"Enter a year: \"))\n",
    "\n",
    "if (year % 400 == 0) and (year % 100 == 0):\n",
    "    print(\"{0} is a leap year\".format(year))\n",
    "\n",
    "elif (year % 4 ==0) and (year % 100 != 0):\n",
    "    print(\"{0} is a leap year\".format(year))\n",
    "\n",
    "\n",
    "else:\n",
    "    print(\"{0} is not a leap year\".format(year))"
   ]
  },
  {
   "cell_type": "markdown",
   "id": "edb7d1a9",
   "metadata": {},
   "source": [
    "4. Write a Python Program to Check Prime Number?\n"
   ]
  },
  {
   "cell_type": "code",
   "execution_count": 16,
   "id": "cd61a10f",
   "metadata": {},
   "outputs": [
    {
     "name": "stdout",
     "output_type": "stream",
     "text": [
      "Enter a number: 7\n",
      "7 is a prime number\n"
     ]
    }
   ],
   "source": [
    "num = int(input(\"Enter a number: \"))\n",
    "\n",
    "if num == 1:\n",
    "    print(num, \"is not a prime number\")\n",
    "elif num > 1:\n",
    "    for i in range(2,num):\n",
    "        if (num % i) == 0:\n",
    "            print(num,\"is not a prime number\")\n",
    "            break\n",
    "    else:\n",
    "        print(num,\"is a prime number\")\n",
    "    \n",
    "else:\n",
    "    print(num,\"is not a prime number\")"
   ]
  },
  {
   "cell_type": "markdown",
   "id": "37e998e9",
   "metadata": {},
   "source": [
    "5. Write a Python Program to Print all Prime Numbers in an Interval of 1-10000?"
   ]
  },
  {
   "cell_type": "code",
   "execution_count": null,
   "id": "a8a32e17",
   "metadata": {},
   "outputs": [],
   "source": [
    "for num in range(1,10000):\n",
    "    for i in range(2,num):\n",
    "            if (num % i) == 0:\n",
    "                print(num,\"is not a prime number\")\n",
    "                break\n",
    "    else:\n",
    "        print(num,\"is a prime number\")"
   ]
  },
  {
   "cell_type": "code",
   "execution_count": null,
   "id": "11af9a34",
   "metadata": {},
   "outputs": [],
   "source": []
  }
 ],
 "metadata": {
  "kernelspec": {
   "display_name": "Python 3 (ipykernel)",
   "language": "python",
   "name": "python3"
  },
  "language_info": {
   "codemirror_mode": {
    "name": "ipython",
    "version": 3
   },
   "file_extension": ".py",
   "mimetype": "text/x-python",
   "name": "python",
   "nbconvert_exporter": "python",
   "pygments_lexer": "ipython3",
   "version": "3.9.7"
  }
 },
 "nbformat": 4,
 "nbformat_minor": 5
}
