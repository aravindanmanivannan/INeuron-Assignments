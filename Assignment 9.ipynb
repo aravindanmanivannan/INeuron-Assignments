{
 "cells": [
  {
   "cell_type": "markdown",
   "id": "e3103be1",
   "metadata": {},
   "source": [
    "1. To what does a relative path refer?\n",
    "\n",
    "ans : A relative path in Python is a path that describes the location of a directory relative to the entry point where you run the Python script.\n",
    "\n",
    "2. What does an absolute path start with your operating system?\n",
    "\n",
    "ans : This path will begin at the home directory of your computer and will end with the file or directory that you wish to access. Absolute paths ensure that Python can find the exact file on your computer.\n",
    "\n",
    "3. What do the functions os.getcwd() and os.chdir() do?\n",
    "\n",
    "ans : Check and Set Your Working Directory Using OS\n",
    "getcwd() : CWD stands for Current Working Directory. This function allows you to see what your current working directory is. chdir(\"path-to-dir\") : Short for CHange DIRectory, this function allows you to set the current working directory to a path of your choice.\n",
    "\n",
    "4. What are the . and .. folders?\n",
    "\n",
    "ans : A directory is a collection of files and subdirectories. A directory inside a directory is known as a subdirectory. Python has the os module that provides us with many useful methods to work with directories (and files as well).\n",
    "\n",
    "5. In C:\\bacon\\eggs\\spam.txt, which part is the dir name, and which part is the base name?\n",
    "\n",
    "ans : C:\\bacon\\eggs is the dir name, while spam. txt is the base name.\n",
    "\n",
    "6. What are the three “mode” arguments that can be passed to the open() function?\n",
    "\n",
    "ans  : The access modes available for the open() function are as follows:\n",
    "r : Opens the file in read-only mode. ...\n",
    "rb : Opens the file as read-only in binary format and starts reading from the beginning of the file. ...\n",
    "r+ : Opens a file for reading and writing, placing the pointer at the beginning of the file.\n",
    "\n",
    "7. What happens if an existing file is opened in write mode?\n",
    "\n",
    "ans : To open a file in write mode, “w” is specified. When mode “w” is specified, it creates an empty file for output operations. What if the file already exists? If a file with the same name already exists, its contents are discarded and the file is treated as a new empty file.\n",
    "\n",
    "8. How do you tell the difference between read() and readlines()?\n",
    "\n",
    "ans: The read() will read the whole file at once and then print out the first characters that take up as many bytes as you specify in the parenthesis versus the readline() that will read and print out only the first characters that take up as many bytes as you specify in the parenthesis.\n",
    "\n",
    "9. What data structure does a shelf value resemble?\n",
    "\n",
    "ans : dictionary value"
   ]
  },
  {
   "cell_type": "code",
   "execution_count": null,
   "id": "b5f3dbe9",
   "metadata": {},
   "outputs": [],
   "source": []
  }
 ],
 "metadata": {
  "kernelspec": {
   "display_name": "Python 3 (ipykernel)",
   "language": "python",
   "name": "python3"
  },
  "language_info": {
   "codemirror_mode": {
    "name": "ipython",
    "version": 3
   },
   "file_extension": ".py",
   "mimetype": "text/x-python",
   "name": "python",
   "nbconvert_exporter": "python",
   "pygments_lexer": "ipython3",
   "version": "3.9.7"
  }
 },
 "nbformat": 4,
 "nbformat_minor": 5
}
