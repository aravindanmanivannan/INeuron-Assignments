{
 "cells": [
  {
   "cell_type": "markdown",
   "id": "d472a9ab",
   "metadata": {},
   "source": [
    "Assignment 7\n",
    "1. Write a Python Program to find sum of array?\n",
    "2. Write a Python Program to find largest element in an array?\n",
    "3. Write a Python Program for array rotation?\n",
    "4. Write a Python Program to Split the array and add the first part to the end?\n",
    "5. Write a Python Program to check if given array is Monotonic?"
   ]
  },
  {
   "cell_type": "code",
   "execution_count": 1,
   "id": "520bb434",
   "metadata": {},
   "outputs": [
    {
     "name": "stdout",
     "output_type": "stream",
     "text": [
      "104\n"
     ]
    }
   ],
   "source": [
    "l=[1,4,75,7,8,5,4]\n",
    "tot=0\n",
    "for i in l:\n",
    "    tot+=i\n",
    "print(tot)"
   ]
  },
  {
   "cell_type": "code",
   "execution_count": null,
   "id": "95c2a0c5",
   "metadata": {},
   "outputs": [],
   "source": []
  },
  {
   "cell_type": "code",
   "execution_count": 2,
   "id": "4f3b95c6",
   "metadata": {},
   "outputs": [
    {
     "name": "stdout",
     "output_type": "stream",
     "text": [
      "75\n"
     ]
    }
   ],
   "source": [
    "l=[1,4,75,7,8,5,4]\n",
    "lar=0\n",
    "\n",
    "for i in l:\n",
    "    if i > lar:\n",
    "        lar=i\n",
    "print(lar)       "
   ]
  },
  {
   "cell_type": "code",
   "execution_count": null,
   "id": "ffa0e93c",
   "metadata": {},
   "outputs": [],
   "source": []
  },
  {
   "cell_type": "code",
   "execution_count": 4,
   "id": "eb4ced6b",
   "metadata": {},
   "outputs": [
    {
     "name": "stdout",
     "output_type": "stream",
     "text": [
      "Do you want to rotate Y/N: y\n",
      "[10, 5, 6, 52, 36, 12]\n",
      "Do you want to rotate Y/N: y\n",
      "[5, 6, 52, 36, 12, 10]\n",
      "Do you want to rotate Y/N: n\n"
     ]
    }
   ],
   "source": [
    "l=[12, 10, 5, 6, 52, 36]\n",
    "rotate=input(\"Do you want to rotate Y/N: \")\n",
    "\n",
    "while rotate.upper() == \"Y\":\n",
    "        a=l.pop(0)\n",
    "        l.append(a)\n",
    "        print(l)\n",
    "        rotate = input(\"Do you want to rotate Y/N: \")"
   ]
  },
  {
   "cell_type": "code",
   "execution_count": null,
   "id": "9a8eb526",
   "metadata": {},
   "outputs": [],
   "source": []
  },
  {
   "cell_type": "code",
   "execution_count": 6,
   "id": "1b26c9d9",
   "metadata": {},
   "outputs": [
    {
     "name": "stdout",
     "output_type": "stream",
     "text": [
      "Do you want to rotate Y/N: y\n",
      "How many moves you want : 2\n",
      "[5, 6, 52, 36, 12, 10]\n",
      "Do you want to rotate Y/N: y\n",
      "How many moves you want : 3\n",
      "[36, 12, 10, 5, 6, 52]\n",
      "Do you want to rotate Y/N: n\n"
     ]
    }
   ],
   "source": [
    "l=[12, 10, 5, 6, 52, 36]\n",
    "rotate=input(\"Do you want to rotate Y/N: \")\n",
    "\n",
    "while rotate.upper() == \"Y\":\n",
    "    split = int(input(\"How many moves you want : \"))\n",
    "    for i in range(split):\n",
    "        a=l.pop(0)\n",
    "        l.append(a)\n",
    "    print(l)\n",
    "    rotate = input(\"Do you want to rotate Y/N: \")"
   ]
  },
  {
   "cell_type": "code",
   "execution_count": null,
   "id": "913022dd",
   "metadata": {},
   "outputs": [],
   "source": []
  },
  {
   "cell_type": "code",
   "execution_count": 7,
   "id": "218f86cc",
   "metadata": {},
   "outputs": [
    {
     "name": "stdout",
     "output_type": "stream",
     "text": [
      "True\n"
     ]
    }
   ],
   "source": [
    "A = [9,6, 5, 4, 4 ]\n",
    "x, y = [], []\n",
    "x.extend(A)\n",
    "y.extend(A)\n",
    "x.sort()\n",
    "y.sort(reverse=True)\n",
    "if(x == A or y == A):\n",
    "    print (True)\n",
    "else:\n",
    "    print (False)\n"
   ]
  },
  {
   "cell_type": "code",
   "execution_count": null,
   "id": "1421750d",
   "metadata": {},
   "outputs": [],
   "source": []
  }
 ],
 "metadata": {
  "kernelspec": {
   "display_name": "Python 3 (ipykernel)",
   "language": "python",
   "name": "python3"
  },
  "language_info": {
   "codemirror_mode": {
    "name": "ipython",
    "version": 3
   },
   "file_extension": ".py",
   "mimetype": "text/x-python",
   "name": "python",
   "nbconvert_exporter": "python",
   "pygments_lexer": "ipython3",
   "version": "3.9.7"
  }
 },
 "nbformat": 4,
 "nbformat_minor": 5
}
