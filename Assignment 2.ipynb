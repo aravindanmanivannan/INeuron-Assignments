{
 "cells": [
  {
   "cell_type": "markdown",
   "id": "d5f38b37",
   "metadata": {},
   "source": [
    "1.What are the two values of the Boolean data type? How do you write them?"
   ]
  },
  {
   "cell_type": "markdown",
   "id": "08d63f0a",
   "metadata": {},
   "source": [
    "True , False"
   ]
  },
  {
   "cell_type": "markdown",
   "id": "feac7eac",
   "metadata": {},
   "source": [
    "2. What are the three different types of Boolean operators?\n",
    "\n",
    "and , or , not"
   ]
  },
  {
   "cell_type": "markdown",
   "id": "d54564ab",
   "metadata": {},
   "source": [
    "3. Make a list of each Boolean operator&#39;s truth tables (i.e. every possible combination of Boolean\n",
    "values for the operator and what it evaluate )."
   ]
  },
  {
   "cell_type": "markdown",
   "id": "4225e5f9",
   "metadata": {},
   "source": [
    "# and\n",
    "\n",
    "0 0 0\n"
   ]
  },
  {
   "cell_type": "markdown",
   "id": "6b40edb0",
   "metadata": {},
   "source": [
    "0 1 0 \n"
   ]
  },
  {
   "cell_type": "markdown",
   "id": "07df1b9d",
   "metadata": {},
   "source": [
    "1 0 0\n"
   ]
  },
  {
   "cell_type": "markdown",
   "id": "db5c029f",
   "metadata": {},
   "source": [
    "1 1 1"
   ]
  },
  {
   "cell_type": "markdown",
   "id": "d38e23eb",
   "metadata": {},
   "source": [
    "or\n",
    "\n",
    "0 0 0\n",
    "\n",
    "0 1 1\n",
    "\n",
    "1 0 1\n",
    "\n",
    "1 1 1"
   ]
  },
  {
   "cell_type": "markdown",
   "id": "619dfa83",
   "metadata": {},
   "source": [
    "not\n",
    "\n",
    "0 1\n",
    "\n",
    "1 0"
   ]
  },
  {
   "cell_type": "markdown",
   "id": "f56f1486",
   "metadata": {},
   "source": [
    "4. What are the values of the following expressions?\n",
    "\n",
    "(5 &gt; 4) and (3 == 5)  False\n",
    "\n",
    "not (5 &gt; 4) False\n",
    "\n",
    "(5 &gt; 4) or (3 == 5) True\n",
    "\n",
    "not ((5 &gt; 4) or (3 == 5)) False\n",
    "\n",
    "(True and True) and (True == False) False\n",
    "\n",
    "(not False) or (not True) True"
   ]
  },
  {
   "cell_type": "markdown",
   "id": "6094e6cc",
   "metadata": {},
   "source": [
    "5. What are the six comparison operators?\n",
    "\n",
    "less than, greater than, less than or equal to, greater than or equal to, equal to, and not equal to "
   ]
  },
  {
   "cell_type": "markdown",
   "id": "97499179",
   "metadata": {},
   "source": [
    "6. How do you tell the difference between the equal to and assignment operators?Describe a\n",
    "condition and when you would use one.\n",
    "\n",
    "The “=” is an assignment operator is used to assign the value on the right to the variable on the left. The '==' operator checks whether the two given operands are equal or not."
   ]
  },
  {
   "cell_type": "code",
   "execution_count": 19,
   "id": "a5c14f47",
   "metadata": {},
   "outputs": [],
   "source": [
    "#Here ypou are assigning 5 to a\n",
    "a=5"
   ]
  },
  {
   "cell_type": "code",
   "execution_count": 21,
   "id": "6b808a98",
   "metadata": {},
   "outputs": [
    {
     "data": {
      "text/plain": [
       "True"
      ]
     },
     "execution_count": 21,
     "metadata": {},
     "output_type": "execute_result"
    }
   ],
   "source": [
    "#here you are checking whether 5 is equal to 5\n",
    "a==5"
   ]
  },
  {
   "cell_type": "markdown",
   "id": "815687a4",
   "metadata": {},
   "source": [
    "7. Identify the three blocks in this code:\n",
    "spam = 0\n",
    "if spam == 10:\n",
    "print(&#39;eggs&#39;)\n",
    "if spam &gt; 5:\n",
    "print(&#39;bacon&#39;)\n",
    "else:\n",
    "print(&#39;ham&#39;)\n",
    "print(&#39;spam&#39;)\n",
    "print(&#39;spam&#39;)"
   ]
  },
  {
   "cell_type": "code",
   "execution_count": 23,
   "id": "24248070",
   "metadata": {},
   "outputs": [
    {
     "name": "stdout",
     "output_type": "stream",
     "text": [
      "ham\n",
      "spam\n",
      "spam\n"
     ]
    }
   ],
   "source": [
    "spam = 0\n",
    "if spam == 10:\n",
    "    print(\"eggs\")\n",
    "if spam > 5:\n",
    "    print(\"bacon\")\n",
    "else:\n",
    "    print(\"ham\")\n",
    "    print(\"spam\")\n",
    "    print(\"spam\")"
   ]
  },
  {
   "cell_type": "markdown",
   "id": "cfa3f42b",
   "metadata": {},
   "source": [
    "8. Write code that prints Hello if 1 is stored in spam, prints Howdy if 2 is stored in spam, and prints\n",
    "Greetings! if anything else is stored in spam."
   ]
  },
  {
   "cell_type": "code",
   "execution_count": 26,
   "id": "5a452725",
   "metadata": {},
   "outputs": [
    {
     "name": "stdout",
     "output_type": "stream",
     "text": [
      "1\n",
      "Hello\n"
     ]
    }
   ],
   "source": [
    "spam=int(input())\n",
    "\n",
    "if spam == 1:\n",
    "    print(\"Hello\")\n",
    "elif  spam == 2:\n",
    "    print(\"Howdy\")\n",
    "else:\n",
    "    print(\"Greetings!\")"
   ]
  },
  {
   "cell_type": "markdown",
   "id": "542720a3",
   "metadata": {},
   "source": [
    "9.If your programme is stuck in an endless loop, what keys you’ll press?\n",
    "\n",
    "Interrupt the kernel"
   ]
  },
  {
   "cell_type": "markdown",
   "id": "b943520d",
   "metadata": {},
   "source": [
    "10. How can you tell the difference between break and continue?\n",
    "\n",
    "\n",
    "when break keyword comes, it terminates the execution of the current loop and passes the control over the next loop or main body, whereas when continue keyword is encountered, it skips the current iteration and executes the very next iteration in the loop."
   ]
  },
  {
   "cell_type": "markdown",
   "id": "b6712079",
   "metadata": {},
   "source": [
    "11. In a for loop, what is the difference between range(10), range(0, 10), and range(0, 10, 1)?"
   ]
  },
  {
   "cell_type": "markdown",
   "id": "36b70db3",
   "metadata": {},
   "source": [
    "No difference between the three"
   ]
  },
  {
   "cell_type": "code",
   "execution_count": 31,
   "id": "1feb2c8b",
   "metadata": {},
   "outputs": [
    {
     "name": "stdout",
     "output_type": "stream",
     "text": [
      "0123456789"
     ]
    }
   ],
   "source": [
    "for i in range(10):\n",
    "    print(i,end=\"\")"
   ]
  },
  {
   "cell_type": "code",
   "execution_count": 32,
   "id": "9f78cd86",
   "metadata": {},
   "outputs": [
    {
     "name": "stdout",
     "output_type": "stream",
     "text": [
      "0123456789"
     ]
    }
   ],
   "source": [
    "for i in range(0,10):\n",
    "    print(i,end=\"\")"
   ]
  },
  {
   "cell_type": "code",
   "execution_count": 33,
   "id": "e6f87361",
   "metadata": {},
   "outputs": [
    {
     "name": "stdout",
     "output_type": "stream",
     "text": [
      "0123456789"
     ]
    }
   ],
   "source": [
    "for i in range(0,10,1):\n",
    "    print(i,end=\"\")"
   ]
  },
  {
   "cell_type": "markdown",
   "id": "583ed979",
   "metadata": {},
   "source": [
    "12. Write a short program that prints the numbers 1 to 10 using a for loop. Then write an equivalent\n",
    "program that prints the numbers 1 to 10 using a while loop."
   ]
  },
  {
   "cell_type": "code",
   "execution_count": 37,
   "id": "b83aa95e",
   "metadata": {},
   "outputs": [
    {
     "name": "stdout",
     "output_type": "stream",
     "text": [
      "1\n",
      "2\n",
      "3\n",
      "4\n",
      "5\n",
      "6\n",
      "7\n",
      "8\n",
      "9\n",
      "10\n"
     ]
    }
   ],
   "source": [
    "for i in range(1,11):\n",
    "    print(i)"
   ]
  },
  {
   "cell_type": "code",
   "execution_count": 39,
   "id": "4507a2a2",
   "metadata": {},
   "outputs": [
    {
     "name": "stdout",
     "output_type": "stream",
     "text": [
      "1\n",
      "2\n",
      "3\n",
      "4\n",
      "5\n",
      "6\n",
      "7\n",
      "8\n",
      "9\n",
      "10\n"
     ]
    }
   ],
   "source": [
    "n=1\n",
    "while n<=10:\n",
    "    print(n)\n",
    "    n=n+1"
   ]
  },
  {
   "cell_type": "markdown",
   "id": "f112b714",
   "metadata": {},
   "source": [
    "13. If you had a function named bacon() inside a module named spam, how would you call it after\n",
    "importing spam?"
   ]
  },
  {
   "cell_type": "markdown",
   "id": "5bd82bf9",
   "metadata": {},
   "source": [
    "This function can be called with spam.bacon()."
   ]
  },
  {
   "cell_type": "code",
   "execution_count": null,
   "id": "b5c6d97d",
   "metadata": {},
   "outputs": [],
   "source": []
  }
 ],
 "metadata": {
  "kernelspec": {
   "display_name": "Python 3 (ipykernel)",
   "language": "python",
   "name": "python3"
  },
  "language_info": {
   "codemirror_mode": {
    "name": "ipython",
    "version": 3
   },
   "file_extension": ".py",
   "mimetype": "text/x-python",
   "name": "python",
   "nbconvert_exporter": "python",
   "pygments_lexer": "ipython3",
   "version": "3.9.7"
  }
 },
 "nbformat": 4,
 "nbformat_minor": 5
}
