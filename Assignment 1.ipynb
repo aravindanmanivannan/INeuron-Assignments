{
 "cells": [
  {
   "cell_type": "markdown",
   "id": "ac16afcc",
   "metadata": {},
   "source": [
    "1. In the below elements which of them are values or an expression? eg:- values can be\n",
    "integer or string and expressions will be mathematical operators.\n",
    "*\n",
    "&#39;hello&#39;\n",
    "-87.8\n",
    "-\n",
    "/\n",
    "+\n",
    "6"
   ]
  },
  {
   "cell_type": "markdown",
   "id": "7ab06635",
   "metadata": {},
   "source": [
    "'hello' is value\n",
    "\n",
    "-87.8 is value\n",
    "\n",
    "-- is expression\n",
    "\n",
    "/ is expression\n",
    "\n",
    "++ is expression\n",
    "\n",
    "6 is value"
   ]
  },
  {
   "cell_type": "markdown",
   "id": "862693ec",
   "metadata": {},
   "source": [
    "2. What is the difference between string and variable?"
   ]
  },
  {
   "cell_type": "markdown",
   "id": "1b7ee2b6",
   "metadata": {},
   "source": [
    "A Variable is a store of information, and a String is a type of information you would store in a Variable. \n",
    "String is anything we write between double quotes"
   ]
  },
  {
   "cell_type": "markdown",
   "id": "bb48540d",
   "metadata": {},
   "source": [
    "3. Describe three different data types.\n",
    "\n",
    "Numeric\n",
    "string\n",
    "list"
   ]
  },
  {
   "cell_type": "markdown",
   "id": "403a7152",
   "metadata": {},
   "source": [
    "4. what is an expression made up of what do all expressions "
   ]
  },
  {
   "cell_type": "markdown",
   "id": "697003c8",
   "metadata": {},
   "source": [
    "An expression is a combination of values, variables, operators, and calls to functions. Expressions need to be evaluated. If you ask Python to print an expression, the interpreter evaluates the expression and displays the result."
   ]
  },
  {
   "cell_type": "markdown",
   "id": "6e34369f",
   "metadata": {},
   "source": [
    "5. This assignment statements, like spam = 10. What is the difference between an\n",
    "expression and a statement?"
   ]
  },
  {
   "cell_type": "markdown",
   "id": "fd789eab",
   "metadata": {},
   "source": [
    "`An expression evaluates to a single value. A statement does not."
   ]
  },
  {
   "cell_type": "markdown",
   "id": "44210b1b",
   "metadata": {},
   "source": [
    "6. After running the following code, what does the variable bacon contain?\n",
    "bacon = 22\n",
    "bacon + 1"
   ]
  },
  {
   "cell_type": "markdown",
   "id": "ade9978f",
   "metadata": {},
   "source": [
    "now bacon is equal to 23"
   ]
  },
  {
   "cell_type": "markdown",
   "id": "1f22be9a",
   "metadata": {},
   "source": [
    "7. What should the values of the following two terms be?\n",
    "&#39;spam&#39; + &#39;spamspam&#39;\n",
    "&#39;spam&#39; * 3"
   ]
  },
  {
   "cell_type": "markdown",
   "id": "a1e6f146",
   "metadata": {},
   "source": [
    "\"spam\"+\"spamspam\" = 'spamspamspam'"
   ]
  },
  {
   "cell_type": "markdown",
   "id": "521544cd",
   "metadata": {},
   "source": [
    "\"spam\"*3 = 'spamspamspam'"
   ]
  },
  {
   "cell_type": "markdown",
   "id": "a161d28f",
   "metadata": {},
   "source": [
    "8. Why is eggs a valid variable name while 100 is invalid?"
   ]
  },
  {
   "cell_type": "markdown",
   "id": "ce609f2d",
   "metadata": {},
   "source": [
    "variable name must not contain only numbers and should not start with number"
   ]
  },
  {
   "cell_type": "markdown",
   "id": "832d83af",
   "metadata": {},
   "source": [
    "9. What three functions can be used to get the integer, floating-point number, or string\n",
    "version of a value?"
   ]
  },
  {
   "cell_type": "markdown",
   "id": "bd4bb1f3",
   "metadata": {},
   "source": [
    " int() , float() , str( ) "
   ]
  },
  {
   "cell_type": "code",
   "execution_count": 24,
   "id": "6cd582c9",
   "metadata": {},
   "outputs": [],
   "source": [
    "a=\"5.5\""
   ]
  },
  {
   "cell_type": "code",
   "execution_count": 25,
   "id": "e35ce698",
   "metadata": {},
   "outputs": [
    {
     "data": {
      "text/plain": [
       "5.5"
      ]
     },
     "execution_count": 25,
     "metadata": {},
     "output_type": "execute_result"
    }
   ],
   "source": [
    "float(a)"
   ]
  },
  {
   "cell_type": "code",
   "execution_count": 26,
   "id": "90c9d15a",
   "metadata": {},
   "outputs": [
    {
     "data": {
      "text/plain": [
       "'5.5'"
      ]
     },
     "execution_count": 26,
     "metadata": {},
     "output_type": "execute_result"
    }
   ],
   "source": [
    "str(a)"
   ]
  },
  {
   "cell_type": "markdown",
   "id": "31c92bcc",
   "metadata": {},
   "source": [
    "10. Why does this expression cause an error? How can you fix it?\n",
    "&#39;I have eaten &#39; + 99 + &#39; burritos.&#39;"
   ]
  },
  {
   "cell_type": "markdown",
   "id": "b05a73d4",
   "metadata": {},
   "source": [
    "can only concatenate str (not \"int\") to str"
   ]
  },
  {
   "cell_type": "code",
   "execution_count": 32,
   "id": "54bf9cee",
   "metadata": {},
   "outputs": [
    {
     "data": {
      "text/plain": [
       "'I have eaten 99 burritos.'"
      ]
     },
     "execution_count": 32,
     "metadata": {},
     "output_type": "execute_result"
    }
   ],
   "source": [
    " 'I have eaten ' + '99' + ' burritos.'"
   ]
  },
  {
   "cell_type": "code",
   "execution_count": null,
   "id": "390efcce",
   "metadata": {},
   "outputs": [],
   "source": []
  }
 ],
 "metadata": {
  "kernelspec": {
   "display_name": "Python 3 (ipykernel)",
   "language": "python",
   "name": "python3"
  },
  "language_info": {
   "codemirror_mode": {
    "name": "ipython",
    "version": 3
   },
   "file_extension": ".py",
   "mimetype": "text/x-python",
   "name": "python",
   "nbconvert_exporter": "python",
   "pygments_lexer": "ipython3",
   "version": "3.9.7"
  }
 },
 "nbformat": 4,
 "nbformat_minor": 5
}
